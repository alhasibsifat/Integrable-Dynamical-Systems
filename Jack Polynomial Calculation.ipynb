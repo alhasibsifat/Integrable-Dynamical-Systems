{
 "cells": [
  {
   "cell_type": "code",
   "execution_count": 8,
   "id": "d078ac88",
   "metadata": {},
   "outputs": [],
   "source": [
    "%display latex"
   ]
  },
  {
   "cell_type": "code",
   "execution_count": 9,
   "id": "294dc0a3",
   "metadata": {},
   "outputs": [
    {
     "data": {
      "text/html": [
       "<html><script type=\"math/tex; mode=display\">\\newcommand{\\Bold}[1]{\\mathbf{#1}}\\left(\\frac{t - 1}{t + 1}\\right) JackP_{1,1} + JackP_{2}</script></html>"
      ],
      "text/latex": [
       "$$\\newcommand{\\Bold}[1]{\\mathbf{#1}}\\left(\\frac{t - 1}{t + 1}\\right) JackP_{1,1} + JackP_{2}$$"
      ],
      "text/plain": [
       "\\left(\\frac{t - 1}{t + 1}\\right) JackP_{1,1} + JackP_{2}"
      ]
     },
     "execution_count": 9,
     "metadata": {},
     "output_type": "execute_result"
    }
   ],
   "source": [
    "Sym = SymmetricFunctions(FractionField(QQ['t']))\n",
    "JP = Sym.jack().P()\n",
    "JQp = Sym.jack().Qp(); JQp                      \n",
    "latex(JP._normalize(JP(JQp([2]))))"
   ]
  },
  {
   "cell_type": "code",
   "execution_count": 10,
   "id": "fab313ad",
   "metadata": {},
   "outputs": [
    {
     "data": {
      "text/html": [
       "<html><script type=\"math/tex; mode=display\">\\newcommand{\\Bold}[1]{\\mathbf{#1}}\\left(\\frac{t^{2} - 3 t + 2}{t^{2} + 3 t + 2}\\right) JackP_{1,1,1} + \\left(\\frac{t - 1}{t + \\frac{1}{2}}\\right) JackP_{2,1} + JackP_{3}</script></html>"
      ],
      "text/latex": [
       "$$\\newcommand{\\Bold}[1]{\\mathbf{#1}}\\left(\\frac{t^{2} - 3 t + 2}{t^{2} + 3 t + 2}\\right) JackP_{1,1,1} + \\left(\\frac{t - 1}{t + \\frac{1}{2}}\\right) JackP_{2,1} + JackP_{3}$$"
      ],
      "text/plain": [
       "\\left(\\frac{t^{2} - 3 t + 2}{t^{2} + 3 t + 2}\\right) JackP_{1,1,1} + \\left(\\frac{t - 1}{t + \\frac{1}{2}}\\right) JackP_{2,1} + JackP_{3}"
      ]
     },
     "execution_count": 10,
     "metadata": {},
     "output_type": "execute_result"
    }
   ],
   "source": [
    "latex(JP._normalize(JP(JQp([3]))))"
   ]
  },
  {
   "cell_type": "code",
   "execution_count": 11,
   "id": "dfe31cea",
   "metadata": {},
   "outputs": [
    {
     "data": {
      "text/html": [
       "<html><script type=\"math/tex; mode=display\">\\newcommand{\\Bold}[1]{\\mathbf{#1}}\\left(\\frac{t^{2} - 3 t + 2}{t^{2} + 3 t + 2}\\right) JackP_{1,1,1} + \\left(\\frac{t - 1}{t + \\frac{1}{2}}\\right) JackP_{2,1} + JackP_{3}</script></html>"
      ],
      "text/latex": [
       "$$\\newcommand{\\Bold}[1]{\\mathbf{#1}}\\left(\\frac{t^{2} - 3 t + 2}{t^{2} + 3 t + 2}\\right) JackP_{1,1,1} + \\left(\\frac{t - 1}{t + \\frac{1}{2}}\\right) JackP_{2,1} + JackP_{3}$$"
      ],
      "text/plain": [
       "\\left(\\frac{t^{2} - 3 t + 2}{t^{2} + 3 t + 2}\\right) JackP_{1,1,1} + \\left(\\frac{t - 1}{t + \\frac{1}{2}}\\right) JackP_{2,1} + JackP_{3}"
      ]
     },
     "execution_count": 11,
     "metadata": {},
     "output_type": "execute_result"
    }
   ],
   "source": [
    "latex(JP._normalize(JP(JQp([3]))))"
   ]
  },
  {
   "cell_type": "code",
   "execution_count": 12,
   "id": "89fb85fc",
   "metadata": {},
   "outputs": [
    {
     "data": {
      "text/html": [
       "<html><script type=\"math/tex; mode=display\">\\newcommand{\\Bold}[1]{\\mathbf{#1}}\\left(\\frac{t^{3} - 6 t^{2} + 11 t - 6}{t^{3} + 6 t^{2} + 11 t + 6}\\right) JackP_{1,1,1,1} + \\left(\\frac{t^{2} - 3 t + 2}{t^{2} + 2 t + 1}\\right) JackP_{2,1,1} + \\left(\\frac{t^{2} - \\frac{3}{2} t + \\frac{1}{2}}{t^{2} + \\frac{3}{2} t + \\frac{1}{2}}\\right) JackP_{2,2} + \\left(\\frac{t - 1}{t + \\frac{1}{3}}\\right) JackP_{3,1} + JackP_{4}</script></html>"
      ],
      "text/latex": [
       "$$\\newcommand{\\Bold}[1]{\\mathbf{#1}}\\left(\\frac{t^{3} - 6 t^{2} + 11 t - 6}{t^{3} + 6 t^{2} + 11 t + 6}\\right) JackP_{1,1,1,1} + \\left(\\frac{t^{2} - 3 t + 2}{t^{2} + 2 t + 1}\\right) JackP_{2,1,1} + \\left(\\frac{t^{2} - \\frac{3}{2} t + \\frac{1}{2}}{t^{2} + \\frac{3}{2} t + \\frac{1}{2}}\\right) JackP_{2,2} + \\left(\\frac{t - 1}{t + \\frac{1}{3}}\\right) JackP_{3,1} + JackP_{4}$$"
      ],
      "text/plain": [
       "\\left(\\frac{t^{3} - 6 t^{2} + 11 t - 6}{t^{3} + 6 t^{2} + 11 t + 6}\\right) JackP_{1,1,1,1} + \\left(\\frac{t^{2} - 3 t + 2}{t^{2} + 2 t + 1}\\right) JackP_{2,1,1} + \\left(\\frac{t^{2} - \\frac{3}{2} t + \\frac{1}{2}}{t^{2} + \\frac{3}{2} t + \\frac{1}{2}}\\right) JackP_{2,2} + \\left(\\frac{t - 1}{t + \\frac{1}{3}}\\right) JackP_{3,1} + JackP_{4}"
      ]
     },
     "execution_count": 12,
     "metadata": {},
     "output_type": "execute_result"
    }
   ],
   "source": [
    "latex(JP._normalize(JP(JQp([4]))))"
   ]
  },
  {
   "cell_type": "code",
   "execution_count": 13,
   "id": "f8795b38",
   "metadata": {},
   "outputs": [
    {
     "data": {
      "text/html": [
       "<html><script type=\"math/tex; mode=display\">\\newcommand{\\Bold}[1]{\\mathbf{#1}}\\left(\\frac{t^{4} - 10 t^{3} + 35 t^{2} - 50 t + 24}{t^{4} + 10 t^{3} + 35 t^{2} + 50 t + 24}\\right) JackP_{1,1,1,1,1} + \\left(\\frac{t^{3} - 6 t^{2} + 11 t - 6}{t^{3} + \\frac{9}{2} t^{2} + \\frac{13}{2} t + 3}\\right) JackP_{2,1,1,1} + \\left(\\frac{t^{3} - \\frac{7}{2} t^{2} + \\frac{7}{2} t - 1}{t^{3} + \\frac{5}{2} t^{2} + 2 t + \\frac{1}{2}}\\right) JackP_{2,2,1} + \\left(\\frac{t^{2} - 3 t + 2}{t^{2} + \\frac{5}{3} t + \\frac{2}{3}}\\right) JackP_{3,1,1} + \\left(\\frac{t^{2} - \\frac{3}{2} t + \\frac{1}{2}}{t^{2} + \\frac{5}{6} t + \\frac{1}{6}}\\right) JackP_{3,2} + \\left(\\frac{t - 1}{t + \\frac{1}{4}}\\right) JackP_{4,1} + JackP_{5}</script></html>"
      ],
      "text/latex": [
       "$$\\newcommand{\\Bold}[1]{\\mathbf{#1}}\\left(\\frac{t^{4} - 10 t^{3} + 35 t^{2} - 50 t + 24}{t^{4} + 10 t^{3} + 35 t^{2} + 50 t + 24}\\right) JackP_{1,1,1,1,1} + \\left(\\frac{t^{3} - 6 t^{2} + 11 t - 6}{t^{3} + \\frac{9}{2} t^{2} + \\frac{13}{2} t + 3}\\right) JackP_{2,1,1,1} + \\left(\\frac{t^{3} - \\frac{7}{2} t^{2} + \\frac{7}{2} t - 1}{t^{3} + \\frac{5}{2} t^{2} + 2 t + \\frac{1}{2}}\\right) JackP_{2,2,1} + \\left(\\frac{t^{2} - 3 t + 2}{t^{2} + \\frac{5}{3} t + \\frac{2}{3}}\\right) JackP_{3,1,1} + \\left(\\frac{t^{2} - \\frac{3}{2} t + \\frac{1}{2}}{t^{2} + \\frac{5}{6} t + \\frac{1}{6}}\\right) JackP_{3,2} + \\left(\\frac{t - 1}{t + \\frac{1}{4}}\\right) JackP_{4,1} + JackP_{5}$$"
      ],
      "text/plain": [
       "\\left(\\frac{t^{4} - 10 t^{3} + 35 t^{2} - 50 t + 24}{t^{4} + 10 t^{3} + 35 t^{2} + 50 t + 24}\\right) JackP_{1,1,1,1,1} + \\left(\\frac{t^{3} - 6 t^{2} + 11 t - 6}{t^{3} + \\frac{9}{2} t^{2} + \\frac{13}{2} t + 3}\\right) JackP_{2,1,1,1} + \\left(\\frac{t^{3} - \\frac{7}{2} t^{2} + \\frac{7}{2} t - 1}{t^{3} + \\frac{5}{2} t^{2} + 2 t + \\frac{1}{2}}\\right) JackP_{2,2,1} + \\left(\\frac{t^{2} - 3 t + 2}{t^{2} + \\frac{5}{3} t + \\frac{2}{3}}\\right) JackP_{3,1,1} + \\left(\\frac{t^{2} - \\frac{3}{2} t + \\frac{1}{2}}{t^{2} + \\frac{5}{6} t + \\frac{1}{6}}\\right) JackP_{3,2} + \\left(\\frac{t - 1}{t + \\frac{1}{4}}\\right) JackP_{4,1} + JackP_{5}"
      ]
     },
     "execution_count": 13,
     "metadata": {},
     "output_type": "execute_result"
    }
   ],
   "source": [
    "latex(JP._normalize(JP(JQp([5]))))"
   ]
  },
  {
   "cell_type": "code",
   "execution_count": null,
   "id": "3ddb99ca",
   "metadata": {},
   "outputs": [],
   "source": []
  }
 ],
 "metadata": {
  "kernelspec": {
   "display_name": "SageMath 9.5",
   "language": "sage",
   "name": "sagemath"
  },
  "language_info": {
   "codemirror_mode": {
    "name": "ipython",
    "version": 3
   },
   "file_extension": ".py",
   "mimetype": "text/x-python",
   "name": "python",
   "nbconvert_exporter": "python",
   "pygments_lexer": "ipython3",
   "version": "3.10.12"
  }
 },
 "nbformat": 4,
 "nbformat_minor": 5
}
